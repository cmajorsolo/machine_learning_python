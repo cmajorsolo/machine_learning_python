{
  "nbformat": 4,
  "nbformat_minor": 0,
  "metadata": {
    "colab": {
      "name": "RNN study with Tensorflow.ipynb",
      "version": "0.3.2",
      "provenance": [],
      "collapsed_sections": [],
      "include_colab_link": true
    },
    "kernelspec": {
      "name": "python3",
      "display_name": "Python 3"
    }
  },
  "cells": [
    {
      "cell_type": "markdown",
      "metadata": {
        "id": "view-in-github",
        "colab_type": "text"
      },
      "source": [
        "[View in Colaboratory](https://colab.research.google.com/github/cmajorsolo/machine_learning_python/blob/master/RNN_study_with_Tensorflow.ipynb)"
      ]
    },
    {
      "metadata": {
        "id": "kPVrmF-OA0VJ",
        "colab_type": "code",
        "colab": {
          "base_uri": "https://localhost:8080/",
          "height": 34
        },
        "outputId": "127de715-f77f-49a7-d2af-be43ea5988a2"
      },
      "cell_type": "code",
      "source": [
        "import tensorflow as tf\n",
        "x1 = tf.constant(5)\n",
        "x2 = tf.constant(6)\n",
        "# result = x1 * x2\n",
        "result = tf.multiply(x1, x2)\n",
        "print(result)\n",
        "\n",
        "with tf.Session() as sess:\n",
        "  output = sess.run(result)\n",
        "print(output)\n"
      ],
      "execution_count": 7,
      "outputs": [
        {
          "output_type": "stream",
          "text": [
            "Tensor(\"Mul_9:0\", shape=(), dtype=int32)\n"
          ],
          "name": "stdout"
        }
      ]
    },
    {
      "metadata": {
        "id": "a-DjB5yPRxkf",
        "colab_type": "code",
        "colab": {
          "base_uri": "https://localhost:8080/",
          "height": 272
        },
        "outputId": "aee257d0-7985-41f4-e9d1-ae89cd718cc2"
      },
      "cell_type": "code",
      "source": [
        "'''\n",
        "build a neural network model\n",
        "input > weight >hidden layer 1 (activation function) > weights > hidden layer 2(activation function) > weights > output layer\n",
        "\n",
        "compare output to intended output > cost of loss function(corss entropy)\n",
        "optimization function (optimizer) > minimize cost (AdamOptimizer....SGD, AdaGrad)\n",
        "\n",
        "backpropagation\n",
        "\n",
        "feed forward + backprop = epoch\n",
        "'''\n",
        "\n",
        "import tensorflow as tf\n",
        "from tensorflow.examples.tutorials.mnist import input_data\n",
        "\n",
        "mnist = input_data.read_data_sets('/tmp/data', one_hot = True)\n",
        "\n",
        "n_nodes_hl1 = 500  #500 nodes on hidden layer 1\n",
        "n_nodes_hl2 = 500  #500 nodes on hidden layer 2\n",
        "n_nodes_hl3 = 500  #500 nodes on hidden layer 3\n",
        "\n",
        "n_classes = 10  #10 numbers\n",
        "batch_size = 100  #batch is the feature size. feed in one batch, update weights then repeat. \n",
        "\n",
        "x = tf.placeholder('float', [None, 784])\n",
        "y = tf.placeholder('float')\n",
        "\n",
        "def neural_network_model(data):\n",
        "  # (input_data * weights) + biases\n",
        "  # if input data is 0, input_data * weights will be 0. No neurals will be fired\n",
        "  # adding biases here to fire the neurons in this case\n",
        "  hidden_1_layer = {'weights':tf.Variable(tf.random_normal([784, n_nodes_hl1])), \n",
        "                    'biases': tf.Variable(tf.random_normal([n_nodes_hl1]))}\n",
        "  hidden_2_layer = {'weights':tf.Variable(tf.random_normal([n_nodes_hl1, n_nodes_hl2])), \n",
        "                    'biases': tf.Variable(tf.random_normal([n_nodes_hl2]))}\n",
        "  hidden_3_layer = {'weights':tf.Variable(tf.random_normal([n_nodes_hl2, n_nodes_hl3])), \n",
        "                    'biases': tf.Variable(tf.random_normal([n_nodes_hl3]))}\n",
        "  output_layer = {'weights':tf.Variable(tf.random_normal([n_nodes_hl3, n_classes])), \n",
        "                    'biases': tf.Variable(tf.random_normal([n_classes]))}\n",
        "  # model for each layer (input_data * weights) + biases\n",
        "  l1 = tf.add(tf.matmul(data, hidden_1_layer['weights']), hidden_1_layer['biases'])  #matrix multiplication\n",
        "  l1 = tf.nn.relu(l1)  #activation function\n",
        "  \n",
        "  l2 = tf.add(tf.matmul(l1, hidden_2_layer['weights']), hidden_2_layer['biases'])  #matrix multiplication\n",
        "  l2 = tf.nn.relu(l2)  #activation function\n",
        "  \n",
        "  l3 = tf.add(tf.matmul(l2, hidden_3_layer['weights']), hidden_3_layer['biases'])  #matrix multiplication\n",
        "  l2 = tf.nn.relu(l3)  #activation function\n",
        "\n",
        "  output = tf.matmul(l3, output_layer['weights']) + output_layer['biases']\n",
        "  \n",
        "  return output\n",
        "\n",
        "def train_neural_network(x):\n",
        "  prediction = neural_network_model(x)\n",
        "  cost = tf.reduce_mean( tf.nn.softmax_cross_entropy_with_logits(logits=prediction, labels=y))\n",
        "  \n",
        "  # learning_rate = 0.001\n",
        "  optimizer = tf.train.AdamOptimizer().minimize(cost)\n",
        "  \n",
        "  # cycles feed forward + backprop\n",
        "  hm_epochs = 10\n",
        "  \n",
        "  with tf.Session() as sess:\n",
        "    sess.run(tf.initialize_all_variables())\n",
        "    \n",
        "    for epoch in range(hm_epochs):\n",
        "      epoch_loss = 0\n",
        "      for _ in range(int(mnist.train.num_examples/batch_size)):\n",
        "        epoch_x, epoch_y = mnist.train.next_batch(batch_size)\n",
        "        _, c = sess.run([optimizer, cost], feed_dict = {x: epoch_x, y: epoch_y}) # c is the cost\n",
        "        epoch_loss += c\n",
        "      print('Epoch', epoch, 'completed out of ', hm_epochs, 'loss:', epoch_loss)\n",
        "    correct = tf.equal(tf.argmax(prediction, 1), tf.argmax(y, 1))  #argmx returns max value\n",
        "    accuracy = tf.reduce_mean(tf.cast(correct, 'float'))\n",
        "    print('Accuracy:', accuracy.eval({x:mnist.test.images, y:mnist.test.labels}))\n",
        "\n",
        "train_neural_network(x)    \n",
        "      "
      ],
      "execution_count": 5,
      "outputs": [
        {
          "output_type": "stream",
          "text": [
            "Extracting /tmp/data/train-images-idx3-ubyte.gz\n",
            "Extracting /tmp/data/train-labels-idx1-ubyte.gz\n",
            "Extracting /tmp/data/t10k-images-idx3-ubyte.gz\n",
            "Extracting /tmp/data/t10k-labels-idx1-ubyte.gz\n",
            "Epoch 0 completed out of  10 loss: 2739163.952392578\n",
            "Epoch 1 completed out of  10 loss: 654612.3142814636\n",
            "Epoch 2 completed out of  10 loss: 380246.40410614014\n",
            "Epoch 3 completed out of  10 loss: 250210.49446150474\n",
            "Epoch 4 completed out of  10 loss: 164160.6193971634\n",
            "Epoch 5 completed out of  10 loss: 116557.556773711\n",
            "Epoch 6 completed out of  10 loss: 93931.12151110172\n",
            "Epoch 7 completed out of  10 loss: 70697.65365123749\n",
            "Epoch 8 completed out of  10 loss: 53436.427868396044\n",
            "Epoch 9 completed out of  10 loss: 45325.36055856943\n",
            "Accuracy: 0.9574\n"
          ],
          "name": "stdout"
        }
      ]
    }
  ]
}