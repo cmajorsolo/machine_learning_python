{
  "nbformat": 4,
  "nbformat_minor": 0,
  "metadata": {
    "colab": {
      "name": "RNN study with Tensorflow.ipynb",
      "version": "0.3.2",
      "provenance": [],
      "collapsed_sections": [],
      "include_colab_link": true
    },
    "kernelspec": {
      "name": "python3",
      "display_name": "Python 3"
    }
  },
  "cells": [
    {
      "cell_type": "markdown",
      "metadata": {
        "id": "view-in-github",
        "colab_type": "text"
      },
      "source": [
        "[View in Colaboratory](https://colab.research.google.com/github/cmajorsolo/machine_learning_python/blob/master/RNN_study_with_Tensorflow.ipynb)"
      ]
    },
    {
      "metadata": {
        "id": "kPVrmF-OA0VJ",
        "colab_type": "code",
        "colab": {
          "base_uri": "https://localhost:8080/",
          "height": 34
        },
        "outputId": "127de715-f77f-49a7-d2af-be43ea5988a2"
      },
      "cell_type": "code",
      "source": [
        "import tensorflow as tf\n",
        "x1 = tf.constant(5)\n",
        "x2 = tf.constant(6)\n",
        "# result = x1 * x2\n",
        "result = tf.multiply(x1, x2)\n",
        "print(result)\n",
        "\n",
        "with tf.Session() as sess:\n",
        "  output = sess.run(result)\n",
        "print(output)\n"
      ],
      "execution_count": 7,
      "outputs": [
        {
          "output_type": "stream",
          "text": [
            "Tensor(\"Mul_9:0\", shape=(), dtype=int32)\n"
          ],
          "name": "stdout"
        }
      ]
    }
  ]
}